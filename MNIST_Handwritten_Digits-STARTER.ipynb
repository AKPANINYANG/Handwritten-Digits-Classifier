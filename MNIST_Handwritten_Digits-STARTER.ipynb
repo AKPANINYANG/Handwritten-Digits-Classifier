{
 "cells": [
  {
   "cell_type": "markdown",
   "metadata": {},
   "source": [
    "# Introduction\n",
    "\n",
    "In this project, you will build a neural network of your own design to evaluate the MNIST dataset.\n",
    "\n",
    "Some of the benchmark results on MNIST include can be found [on Yann LeCun's page](http://yann.lecun.com/exdb/mnist/) and include:\n",
    "\n",
    "88% [Lecun et al., 1998](http://yann.lecun.com/exdb/publis/pdf/lecun-98.pdf)\n",
    "95.3% [Lecun et al., 1998](http://yann.lecun.com/exdb/publis/pdf/lecun-98.pdf)\n",
    "99.65% [Ciresan et al., 2011](http://people.idsia.ch/~juergen/ijcai2011.pdf)\n",
    "\n",
    "MNIST is a great dataset for sanity checking your models, since the accuracy levels achieved by large convolutional neural networks and small linear models are both quite high. This makes it important to be familiar with the data.\n",
    "\n",
    "## Imports"
   ]
  },
  {
   "cell_type": "code",
   "execution_count": 1,
   "metadata": {},
   "outputs": [],
   "source": [
    "## This cell contains the essential imports you will need – DO NOT CHANGE THE CONTENTS! ##\n",
    "import torch\n",
    "import torch.nn as nn\n",
    "import torch.nn.functional as F\n",
    "import torch.optim as optim\n",
    "import torchvision\n",
    "import torchvision.transforms as transforms\n",
    "import matplotlib.pyplot as plt\n",
    "import numpy as np"
   ]
  },
  {
   "cell_type": "code",
   "execution_count": 2,
   "metadata": {},
   "outputs": [
    {
     "data": {
      "text/plain": [
       "device(type='cpu')"
      ]
     },
     "execution_count": 2,
     "metadata": {},
     "output_type": "execute_result"
    }
   ],
   "source": [
    "device = torch.device('cuda' if torch.cuda.is_available() else 'cpu')\n",
    "device"
   ]
  },
  {
   "cell_type": "code",
   "execution_count": 3,
   "metadata": {},
   "outputs": [
    {
     "name": "stdout",
     "output_type": "stream",
     "text": [
      "Defaulting to user installation because normal site-packages is not writeable\n",
      "Requirement already satisfied: ipywidgets in /root/.local/lib/python3.7/site-packages (8.1.0)\n",
      "Requirement already satisfied: widgetsnbextension~=4.0.7 in /root/.local/lib/python3.7/site-packages (from ipywidgets) (4.0.8)\n",
      "Requirement already satisfied: jupyterlab-widgets~=3.0.7 in /root/.local/lib/python3.7/site-packages (from ipywidgets) (3.0.8)\n",
      "Requirement already satisfied: comm>=0.1.3 in /root/.local/lib/python3.7/site-packages (from ipywidgets) (0.1.3)\n",
      "Requirement already satisfied: traitlets>=4.3.1 in /opt/conda/lib/python3.7/site-packages (from ipywidgets) (4.3.3)\n",
      "Requirement already satisfied: ipython>=6.1.0 in /opt/conda/lib/python3.7/site-packages (from ipywidgets) (7.13.0)\n",
      "Requirement already satisfied: decorator in /opt/conda/lib/python3.7/site-packages (from traitlets>=4.3.1->ipywidgets) (4.4.2)\n",
      "Requirement already satisfied: ipython-genutils in /opt/conda/lib/python3.7/site-packages (from traitlets>=4.3.1->ipywidgets) (0.2.0)\n",
      "Requirement already satisfied: six in /opt/conda/lib/python3.7/site-packages (from traitlets>=4.3.1->ipywidgets) (1.16.0)\n",
      "Requirement already satisfied: pickleshare in /opt/conda/lib/python3.7/site-packages (from ipython>=6.1.0->ipywidgets) (0.7.5)\n",
      "Requirement already satisfied: backcall in /opt/conda/lib/python3.7/site-packages (from ipython>=6.1.0->ipywidgets) (0.1.0)\n",
      "Requirement already satisfied: prompt-toolkit!=3.0.0,!=3.0.1,<3.1.0,>=2.0.0 in /opt/conda/lib/python3.7/site-packages (from ipython>=6.1.0->ipywidgets) (3.0.3)\n",
      "Requirement already satisfied: jedi>=0.10 in /opt/conda/lib/python3.7/site-packages (from ipython>=6.1.0->ipywidgets) (0.16.0)\n",
      "Requirement already satisfied: pexpect; sys_platform != \"win32\" in /opt/conda/lib/python3.7/site-packages (from ipython>=6.1.0->ipywidgets) (4.8.0)\n",
      "Requirement already satisfied: pygments in /opt/conda/lib/python3.7/site-packages (from ipython>=6.1.0->ipywidgets) (2.5.2)\n",
      "Requirement already satisfied: setuptools>=18.5 in /opt/conda/lib/python3.7/site-packages (from ipython>=6.1.0->ipywidgets) (45.2.0.post20200209)\n",
      "Requirement already satisfied: wcwidth in /opt/conda/lib/python3.7/site-packages (from prompt-toolkit!=3.0.0,!=3.0.1,<3.1.0,>=2.0.0->ipython>=6.1.0->ipywidgets) (0.1.8)\n",
      "Requirement already satisfied: parso>=0.5.2 in /opt/conda/lib/python3.7/site-packages (from jedi>=0.10->ipython>=6.1.0->ipywidgets) (0.6.1)\n",
      "Requirement already satisfied: ptyprocess>=0.5 in /opt/conda/lib/python3.7/site-packages (from pexpect; sys_platform != \"win32\"->ipython>=6.1.0->ipywidgets) (0.6.0)\n",
      "Enabling notebook extension jupyter-js-widgets/extension...\n",
      "      - Validating: \u001b[32mOK\u001b[0m\n"
     ]
    }
   ],
   "source": [
    "!pip install ipywidgets\n",
    "!jupyter nbextension enable --py widgetsnbextension"
   ]
  },
  {
   "cell_type": "markdown",
   "metadata": {},
   "source": [
    "## Load the Dataset\n",
    "\n",
    "Specify your transforms as a list if you intend to .\n",
    "The transforms module is already loaded as `transforms`.\n",
    "\n",
    "MNIST is fortunately included in the torchvision module.\n",
    "Then, you can create your dataset using the `MNIST` object from `torchvision.datasets` ([the documentation is available here](https://pytorch.org/vision/stable/datasets.html#mnist)).\n",
    "Make sure to specify `download=True`! \n",
    "\n",
    "Once your dataset is created, you'll also need to define a `DataLoader` from the `torch.utils.data` module for both the train and the test set."
   ]
  },
  {
   "cell_type": "code",
   "execution_count": 3,
   "metadata": {},
   "outputs": [
    {
     "name": "stderr",
     "output_type": "stream",
     "text": [
      "/opt/conda/lib/python3.7/site-packages/torchvision/datasets/mnist.py:498: UserWarning: The given NumPy array is not writable, and PyTorch does not support non-writable tensors. This means writing to this tensor will result in undefined behavior. You may want to copy the array to protect its data or make it writable before converting it to a tensor. This type of warning will be suppressed for the rest of this program. (Triggered internally at  ../torch/csrc/utils/tensor_numpy.cpp:178.)\n",
      "  return torch.from_numpy(parsed.astype(m[2], copy=False)).view(*s)\n"
     ]
    }
   ],
   "source": [
    "# Define transforms\n",
    "transform = transforms.Compose([transforms.ToTensor(), transforms.Normalize((0.5,), (0.5,))])\n",
    "\n",
    "# Create training set and define training dataloader\n",
    "train_data = torchvision.datasets.MNIST(root=\"data\", train=True, download=True, transform=transform)\n",
    "train_loader = torch.utils.data.DataLoader(train_data, batch_size=100, shuffle=True)\n",
    "\n",
    "# Create test set and define test dataloader\n",
    "test_data = torchvision.datasets.MNIST(root=\"data\", train=False, download=True, transform=transform)\n",
    "test_loader = torch.utils.data.DataLoader(test_data, batch_size=500, shuffle=False)"
   ]
  },
  {
   "cell_type": "markdown",
   "metadata": {},
   "source": [
    "## Justify your preprocessing\n",
    "\n",
    "In your own words, why did you choose the transforms you chose? If you didn't use any preprocessing steps, why not?\n",
    "\n"
   ]
  },
  {
   "cell_type": "markdown",
   "metadata": {},
   "source": [
    "**transforms.ToTensor(): The ToTensor() transformation converts the input image from a NumPy array format to a PyTorch tensor format. This is essential because PyTorch's primary data structure for working with tensors is its torch.Tensor. By converting the images to tensors, we enable PyTorch to leverage its optimized tensor operations, enabling efficient computation and taking advantage of GPU acceleration for faster training. Tensors are the fundamental building blocks of PyTorch, allowing seamless integration with other PyTorch modules, layers, and loss functions.**\n",
    "\n",
    "\n",
    "**transforms.Normalize((0.5,), (0.5,)): the mean and standard deviation for the single channel (grayscale) are both set to 0.5. The reason for choosing these specific values (mean = 0.5, std = 0.5) is to scale the pixel values to a range of [-1, 1]. The original pixel values in the MNIST dataset range from 0 to 255, so after normalization, they will be in the range of approximately [-1, 1], centered around 0.**"
   ]
  },
  {
   "cell_type": "markdown",
   "metadata": {},
   "source": [
    "## Explore the Dataset\n",
    "Using matplotlib, numpy, and torch, explore the dimensions of your data.\n",
    "\n",
    "You can view images using the `show5` function defined below – it takes a data loader as an argument.\n",
    "Remember that normalized images will look really weird to you! You may want to try changing your transforms to view images.\n",
    "Typically using no transforms other than `toTensor()` works well for viewing – but not as well for training your network.\n",
    "If `show5` doesn't work, go back and check your code for creating your data loaders and your training/test sets."
   ]
  },
  {
   "cell_type": "code",
   "execution_count": 4,
   "metadata": {},
   "outputs": [],
   "source": [
    "## This cell contains a function for showing 5 images from a dataloader – DO NOT CHANGE THE CONTENTS! ##\n",
    "def show5(img_loader):\n",
    "    dataiter = iter(img_loader)\n",
    "    \n",
    "    batch = next(dataiter)\n",
    "    labels = batch[1][0:5]\n",
    "    images = batch[0][0:5]\n",
    "    for i in range(5):\n",
    "        print(int(labels[i].detach()))\n",
    "    \n",
    "        image = images[i].numpy()\n",
    "        plt.imshow(image.T.squeeze().T)\n",
    "        plt.show()"
   ]
  },
  {
   "cell_type": "code",
   "execution_count": 13,
   "metadata": {},
   "outputs": [
    {
     "name": "stdout",
     "output_type": "stream",
     "text": [
      "1\n"
     ]
    },
    {
     "data": {
      "image/png": "[encoded data removed]",
      "text/plain": [
       "<Figure size 432x288 with 1 Axes>"
      ]
     },
     "metadata": {
      "needs_background": "light"
     },
     "output_type": "display_data"
    },
    {
     "name": "stdout",
     "output_type": "stream",
     "text": [
      "4\n"
     ]
    },
    {
     "data": {
      "image/png": "[encoded data removed]",
      "text/plain": [
       "<Figure size 432x288 with 1 Axes>"
      ]
     },
     "metadata": {
      "needs_background": "light"
     },
     "output_type": "display_data"
    },
    {
     "name": "stdout",
     "output_type": "stream",
     "text": [
      "0\n"
     ]
    },
    {
     "data": {
      "image/png": "[encoded data removed]",
      "text/plain": [
       "<Figure size 432x288 with 1 Axes>"
      ]
     },
     "metadata": {
      "needs_background": "light"
     },
     "output_type": "display_data"
    },
    {
     "name": "stdout",
     "output_type": "stream",
     "text": [
      "4\n"
     ]
    },
    {
     "data": {
      "image/png": "[encoded data removed]",
      "text/plain": [
       "<Figure size 432x288 with 1 Axes>"
      ]
     },
     "metadata": {
      "needs_background": "light"
     },
     "output_type": "display_data"
    },
    {
     "name": "stdout",
     "output_type": "stream",
     "text": [
      "6\n"
     ]
    },
    {
     "data": {
      "image/png": "[encoded data removed]",
      "text/plain": [
       "<Figure size 432x288 with 1 Axes>"
      ]
     },
     "metadata": {
      "needs_background": "light"
     },
     "output_type": "display_data"
    }
   ],
   "source": [
    "# Explore data\n",
    "show5(train_loader)"
   ]
  },
  {
   "cell_type": "markdown",
   "metadata": {},
   "source": [
    "## Build your Neural Network\n",
    "Using the layers in `torch.nn` (which has been imported as `nn`) and the `torch.nn.functional` module (imported as `F`), construct a neural network based on the parameters of the dataset.\n",
    "Use any architecture you like. \n",
    "\n",
    "*Note*: If you did not flatten your tensors in your transforms or as part of your preprocessing and you are using only `Linear` layers, make sure to use the `Flatten` layer in your network!"
   ]
  },
  {
   "cell_type": "code",
   "execution_count": 6,
   "metadata": {},
   "outputs": [
    {
     "name": "stdout",
     "output_type": "stream",
     "text": [
      "Initial Batch Shape:  torch.Size([100, 1, 28, 28])\n",
      "Batch Shape after Flattening:  torch.Size([100, 784])\n"
     ]
    }
   ],
   "source": [
    "# Defining the class for your neural network\n",
    "class MultiLayerPerceptron(nn.Module):\n",
    "    def __init__(self, layers=[120,84]):\n",
    "        super().__init__()\n",
    "        self.linear1 = nn.Linear(784,layers[0])\n",
    "        self.linear2 = nn.Linear(layers[0],layers[1])\n",
    "        self.linear3 = nn.Linear(layers[1],10)\n",
    "    \n",
    "    def forward(self,X):\n",
    "        X = F.relu(self.linear1(X))\n",
    "        X = F.relu(self.linear2(X))\n",
    "        X = self.linear3(X)\n",
    "        return F.log_softmax(X, dim=1)\n",
    "    \n",
    "#Instantiating the model\n",
    "mlp = MultiLayerPerceptron()\n",
    "mlp.to(device)\n",
    "\n",
    "for images, labels in train_loader:\n",
    "    print(\"Initial Batch Shape: \", images.size())\n",
    "    break\n",
    "print(\"Batch Shape after Flattening: \", images.view(100,-1).size())"
   ]
  },
  {
   "cell_type": "markdown",
   "metadata": {},
   "source": [
    "Specify a loss function and an optimizer, and instantiate the model.\n",
    "\n",
    "If you use a less common loss function, please note why you chose that loss function in a comment."
   ]
  },
  {
   "cell_type": "code",
   "execution_count": 7,
   "metadata": {},
   "outputs": [],
   "source": [
    "# Choosing the Model  \n",
    "clf = MultiLayerPerceptron()\n",
    "\n",
    "#Selecting an Adam optimizer\n",
    "optimizer = optim.Adam(clf.parameters(), lr=0.001) #Learning rate set to 0.001\n",
    "\n",
    "# Choosing the crossEntropy loss function\n",
    "criterion = nn.CrossEntropyLoss()"
   ]
  },
  {
   "cell_type": "markdown",
   "metadata": {},
   "source": [
    "## Running your Neural Network\n",
    "Use whatever method you like to train your neural network, and ensure you record the average loss at each epoch. \n",
    "Don't forget to use `torch.device()` and the `.to()` method for both your model and your data if you are using GPU!\n",
    "\n",
    "If you want to print your loss **during** each epoch, you can use the `enumerate` function and print the loss after a set number of batches. 250 batches works well for most people!"
   ]
  },
  {
   "cell_type": "code",
   "execution_count": 8,
   "metadata": {},
   "outputs": [
    {
     "name": "stdout",
     "output_type": "stream",
     "text": [
      "Epoch:  0 Batch:  600 [ 60000/60000] Train loss: 0.24202274 Train accuracy:87.603%\n",
      "Epoch:  1 Batch:  600 [ 60000/60000] Train loss: 0.16019611 Train accuracy:94.093%\n",
      "Epoch:  2 Batch:  600 [ 60000/60000] Train loss: 0.20297064 Train accuracy:95.657%\n",
      "Epoch:  3 Batch:  600 [ 60000/60000] Train loss: 0.02806288 Train accuracy:96.448%\n",
      "Epoch:  4 Batch:  600 [ 60000/60000] Train loss: 0.13480368 Train accuracy:97.118%\n",
      "Epoch:  5 Batch:  600 [ 60000/60000] Train loss: 0.06906697 Train accuracy:97.358%\n",
      "Epoch:  6 Batch:  600 [ 60000/60000] Train loss: 0.17565243 Train accuracy:97.672%\n",
      "Epoch:  7 Batch:  600 [ 60000/60000] Train loss: 0.02919478 Train accuracy:97.863%\n",
      "Epoch:  8 Batch:  600 [ 60000/60000] Train loss: 0.02434774 Train accuracy:98.153%\n",
      "Epoch:  9 Batch:  600 [ 60000/60000] Train loss: 0.05361896 Train accuracy:98.235%\n"
     ]
    }
   ],
   "source": [
    "train_losses = list()\n",
    "train_correct = []\n",
    "epochs = 10\n",
    "test_losses = []\n",
    "test_correct = []\n",
    "\n",
    "for i in range(epochs):\n",
    "    trn_corr = 0\n",
    "    tst_corr = 0\n",
    "    \n",
    "    #Running the training batches\n",
    "    for b, (inputs, labels) in enumerate(train_loader):\n",
    "        b+=1\n",
    "        \n",
    "        #Applying the model\n",
    "        labels_pred = clf(inputs.view(100, -1)) # flattens training inputs\n",
    "        loss = criterion(labels_pred, labels)\n",
    "        \n",
    "        #Calculating the number of correct predictions\n",
    "        predicted = torch.max(labels_pred.data, 1)[1] # maximum probability prediction\n",
    "        batch_corr = (predicted == labels).sum()\n",
    "        trn_corr += batch_corr\n",
    "        \n",
    "        #Updating param\n",
    "        optimizer.zero_grad() #resets the gradients after each training step\n",
    "        loss.backward() #initializes backpropagation\n",
    "        optimizer.step() #per form param update\n",
    "        \n",
    "        #Printing interim results\n",
    "        if b%600 == 0:\n",
    "            print(f'Epoch: {i:2} Batch: {b:4} [{100*b:6}/60000] Train loss: {loss.item():10.8f} Train accuracy:{trn_corr.item()/len(train_loader):.3f}%')\n",
    "\n",
    "    #Updating train loss & accuracy for the epoch\n",
    "    train_losses.append(loss)\n",
    "    train_correct.append(trn_corr)\n",
    "                  \n",
    "    #Running testing batches:\n",
    "    with torch.no_grad(): #eliminates gradient calculation during testing\n",
    "        for b, (test_inputs, test_labels) in enumerate(test_loader):\n",
    "            labels_val = clf(test_inputs.view(500,-1))\n",
    "                  \n",
    "            #Evaluating the number of correct pradictions\n",
    "            predicted = torch.max(labels_val.data, 1)[1]\n",
    "            tst_corr += (predicted == test_labels).sum()\n",
    "            \n",
    "    #Updating test loss & accuracy for the epoch\n",
    "    loss = criterion(labels_val, test_labels)\n",
    "    test_losses.append(loss)\n",
    "    test_correct.append(tst_corr)"
   ]
  },
  {
   "cell_type": "markdown",
   "metadata": {},
   "source": [
    "Plot the training loss (and validation loss/accuracy, if recorded)."
   ]
  },
  {
   "cell_type": "code",
   "execution_count": 9,
   "metadata": {},
   "outputs": [
    {
     "data": {
      "text/plain": [
       "<matplotlib.legend.Legend at 0x7f3d27b56610>"
      ]
     },
     "execution_count": 9,
     "metadata": {},
     "output_type": "execute_result"
    },
    {
     "data": {
      "image/png": "[encoded data removed]",
      "text/plain": [
       "<Figure size 432x288 with 2 Axes>"
      ]
     },
     "metadata": {
      "needs_background": "light"
     },
     "output_type": "display_data"
    }
   ],
   "source": [
    "trn_loss = [trn.item() for trn in train_losses]\n",
    "\n",
    "plt.subplot(3,1,1)\n",
    "plt.plot(test_losses, label=\"Validation Loss\")\n",
    "plt.plot(trn_loss, label=\"Training Loss\")\n",
    "plt.title(\"Loss at the end of each epoch\")\n",
    "\n",
    "plt.subplot(3,1,3)\n",
    "plt.plot([t/600 for t in train_correct], label=\"Training Accuracy\")\n",
    "plt.plot([t/100 for t in test_correct], label=\"Validation Accuracy\")\n",
    "plt.title(\"Accuracy at the end of each epoch\")\n",
    "\n",
    "plt.legend()"
   ]
  },
  {
   "cell_type": "markdown",
   "metadata": {},
   "source": [
    "## Testing your model\n",
    "Using the previously created `DataLoader` for the test set, compute the percentage of correct predictions using the highest probability prediction. \n",
    "\n",
    "If your accuracy is over 90%, great work, but see if you can push a bit further! \n",
    "If your accuracy is under 90%, you'll need to make improvements.\n",
    "Go back and check your model architecture, loss function, and optimizer to make sure they're appropriate for an image classification task."
   ]
  },
  {
   "cell_type": "code",
   "execution_count": 10,
   "metadata": {},
   "outputs": [
    {
     "name": "stdout",
     "output_type": "stream",
     "text": [
      "Test Accuracy: 96.990%\n"
     ]
    }
   ],
   "source": [
    "print(f'Test Accuracy: {test_correct[-1].item()*100/10000:.3f}%')"
   ]
  },
  {
   "cell_type": "markdown",
   "metadata": {},
   "source": [
    "## Improving your model\n",
    "\n",
    "Once your model is done training, try tweaking your hyperparameters and training again below to improve your accuracy on the test set!"
   ]
  },
  {
   "cell_type": "code",
   "execution_count": 11,
   "metadata": {},
   "outputs": [
    {
     "name": "stdout",
     "output_type": "stream",
     "text": [
      "Epoch:  0 Batch:  600 [ 60000/60000] Train loss: 0.03998091 Train accuracy:98.453%\n",
      "Epoch:  1 Batch:  600 [ 60000/60000] Train loss: 0.06058427 Train accuracy:98.562%\n",
      "Epoch:  2 Batch:  600 [ 60000/60000] Train loss: 0.02704915 Train accuracy:98.700%\n",
      "Epoch:  3 Batch:  600 [ 60000/60000] Train loss: 0.03939768 Train accuracy:98.727%\n",
      "Epoch:  4 Batch:  600 [ 60000/60000] Train loss: 0.00630848 Train accuracy:98.852%\n",
      "Epoch:  5 Batch:  600 [ 60000/60000] Train loss: 0.00500408 Train accuracy:98.888%\n",
      "Epoch:  6 Batch:  600 [ 60000/60000] Train loss: 0.06675144 Train accuracy:98.953%\n",
      "Epoch:  7 Batch:  600 [ 60000/60000] Train loss: 0.05102309 Train accuracy:99.097%\n",
      "Epoch:  8 Batch:  600 [ 60000/60000] Train loss: 0.02950390 Train accuracy:99.128%\n",
      "Epoch:  9 Batch:  600 [ 60000/60000] Train loss: 0.00666141 Train accuracy:99.157%\n"
     ]
    }
   ],
   "source": [
    "train_losses = []\n",
    "train_correct = []\n",
    "test_losses = []\n",
    "test_correct = []\n",
    "epochs = 10\n",
    "\n",
    "for i in range(epochs):\n",
    "    trn_corr = 0\n",
    "    tst_corr = 0\n",
    "    \n",
    "    #Running the training batches\n",
    "    for b, (inputs, labels) in enumerate(train_loader):\n",
    "        b+=1\n",
    "        \n",
    "        #Applying the model\n",
    "        labels_pred = clf(inputs.view(100, -1)) # flattens training inputs\n",
    "        loss = criterion(labels_pred, labels)\n",
    "        \n",
    "        #Calculating the number of correct predictions\n",
    "        predicted = torch.max(labels_pred.data, 1)[1] # maximum probability prediction\n",
    "        batch_corr = (predicted == labels).sum()\n",
    "        trn_corr += batch_corr\n",
    "        \n",
    "        #Updating param\n",
    "        optimizer.zero_grad() # gradient reset\n",
    "        loss.backward() # backpropagation\n",
    "        optimizer.step() #per form parameter update\n",
    "        \n",
    "        #Printing interim results\n",
    "        if b%600 == 0:\n",
    "            print(f'Epoch: {i:2} Batch: {b:4} [{100*b:6}/60000] Train loss: {loss.item():10.8f} Train accuracy:{trn_corr.item()/len(train_loader):.3f}%')\n",
    "\n",
    "    #Updating train loss & accuracy for the epoch\n",
    "    train_losses.append(loss)\n",
    "    train_correct.append(trn_corr)\n",
    "            \n",
    "        \n",
    "    #Running the testing batches:\n",
    "    with torch.no_grad(): #removes gradients\n",
    "        for b, (test_inputs, test_labels) in enumerate(test_loader):\n",
    "            labels_val = clf(test_inputs.view(500,-1))\n",
    "                  \n",
    "            #evaluating number of correct pradictions\n",
    "            predicted = torch.max(labels_val.data, 1)[1]\n",
    "            tst_corr += (predicted == test_labels).sum()\n",
    "            \n",
    "    #Update test loss & accuracy for the epoch\n",
    "    loss = criterion(labels_val, test_labels)\n",
    "    test_losses.append(loss)\n",
    "    test_correct.append(tst_corr)"
   ]
  },
  {
   "cell_type": "markdown",
   "metadata": {},
   "source": [
    "## Saving your model\n",
    "Using `torch.save`, save your model for future loading."
   ]
  },
  {
   "cell_type": "code",
   "execution_count": 12,
   "metadata": {},
   "outputs": [],
   "source": [
    "torch.save(clf.state_dict(), 'HandwrittenClassifier.pt')"
   ]
  }
 ],
 "metadata": {
  "kernelspec": {
   "display_name": "Python 3",
   "language": "python",
   "name": "python3"
  },
  "language_info": {
   "codemirror_mode": {
    "name": "ipython",
    "version": 3
   },
   "file_extension": ".py",
   "mimetype": "text/x-python",
   "name": "python",
   "nbconvert_exporter": "python",
   "pygments_lexer": "ipython3",
   "version": "3.7.6"
  }
 },
 "nbformat": 4,
 "nbformat_minor": 4
}
